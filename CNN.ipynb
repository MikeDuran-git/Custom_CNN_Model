{
 "cells": [
  {
   "cell_type": "markdown",
   "metadata": {
    "id": "xP4nfjF0HtbZ"
   },
   "source": [
    "On this project i will build a CNN, that can make a difference between a Cat and a Dog. This is a project is made to teach me some methods of pooling and flattening that the CNN methods use."
   ]
  },
  {
   "cell_type": "markdown",
   "metadata": {
    "id": "ZLgl4hdczqVx"
   },
   "source": [
    "# Libraries"
   ]
  },
  {
   "cell_type": "code",
   "execution_count": 1,
   "metadata": {
    "id": "ajUn1yRfzm7N"
   },
   "outputs": [
    {
     "name": "stderr",
     "output_type": "stream",
     "text": [
      "Using TensorFlow backend.\n"
     ]
    }
   ],
   "source": [
    "from keras.models import Sequential\n",
    "from keras.layers import Convolution2D # first step of convolution to build the feature mapping\n",
    "from keras.layers import MaxPooling2D # to maxpool.\n",
    "from keras.layers import Flatten # step3 to flatten our matrix.\n",
    "from keras.layers import Dense # to add fully connected layers.\n",
    "from keras.layers import BatchNormalization\n",
    "from keras.layers import Dropout"
   ]
  },
  {
   "cell_type": "markdown",
   "metadata": {
    "id": "9oSSqVJLI-zt"
   },
   "source": [
    "# CNN BUILD"
   ]
  },
  {
   "cell_type": "markdown",
   "metadata": {
    "id": "sbMSYy2aJRbw"
   },
   "source": [
    "## Initalisation"
   ]
  },
  {
   "cell_type": "markdown",
   "metadata": {
    "id": "oyFetWyGJVnV"
   },
   "source": [
    "It's just like a simple ANN to initalize, we build de classifier"
   ]
  },
  {
   "cell_type": "code",
   "execution_count": 2,
   "metadata": {
    "id": "08U6bsr3IJ-_"
   },
   "outputs": [],
   "source": [
    "classifier=Sequential()"
   ]
  },
  {
   "cell_type": "markdown",
   "metadata": {
    "id": "jxW4cyPBNOVC"
   },
   "source": [
    "## Convolution"
   ]
  },
  {
   "cell_type": "markdown",
   "metadata": {
    "id": "AlgpwzuNKCY3"
   },
   "source": [
    "after that we build the convolution layer. This is the layer where we build our feature maps, by translating our input img , into multiple matrixs.\n",
    "By using Convolution2D rather than Dense, to build our feature maps.\n",
    "- filter: the number of features we want. (32 is a standard on the first layer) if we make another convolutional layer we would double the filter value.\n",
    "- kernel_size: the matrix dimension of the feature detector, in our case we choose a 3x3 matrix. so a simple 3 value.\n",
    "- stride: the amount of pixel we move the feature detector.\n",
    "\n",
    "- input_shape: to specify the shape of our imgs, (width,height,3) if RGB and (width,height,1) if B&W. We will adapt our imgs to the specified width and height. In our case (64,64,3).\n",
    "- activation: the activation function we use \"relu\" because handling imgs is non linear, which makes relu a better option\n"
   ]
  },
  {
   "cell_type": "code",
   "execution_count": 3,
   "metadata": {
    "id": "KvyDTdBBJ280"
   },
   "outputs": [
    {
     "name": "stdout",
     "output_type": "stream",
     "text": [
      "WARNING:tensorflow:From C:\\Users\\MIKED\\Anaconda3\\envs\\tensorflow\\lib\\site-packages\\tensorflow_core\\python\\ops\\resource_variable_ops.py:1630: calling BaseResourceVariable.__init__ (from tensorflow.python.ops.resource_variable_ops) with constraint is deprecated and will be removed in a future version.\n",
      "Instructions for updating:\n",
      "If using Keras pass *_constraint arguments to layers.\n"
     ]
    }
   ],
   "source": [
    "classifier.add(Convolution2D(filters=32,kernel_size=3,strides=1,input_shape=(150,150,3),activation=\"relu\"))"
   ]
  },
  {
   "cell_type": "markdown",
   "metadata": {
    "id": "iXkSlPUwNSB0"
   },
   "source": [
    "## Pooling"
   ]
  },
  {
   "cell_type": "markdown",
   "metadata": {
    "id": "WMfGk0NWNvvD"
   },
   "source": [
    "In this step we reduce every feature map, into a smaller matrix, to make it easier to process. Creating the so called Pooling Layer. if we don't do it we will have WAY TO MUCH features.\n",
    "- pool_size: the dimension of the 'feature detector' in our case 2x2 . the strides will have the default value of 2 in this case."
   ]
  },
  {
   "cell_type": "code",
   "execution_count": 4,
   "metadata": {
    "id": "9m5ztUaDM8kG"
   },
   "outputs": [
    {
     "name": "stdout",
     "output_type": "stream",
     "text": [
      "WARNING:tensorflow:From C:\\Users\\MIKED\\Anaconda3\\envs\\tensorflow\\lib\\site-packages\\keras\\backend\\tensorflow_backend.py:4070: The name tf.nn.max_pool is deprecated. Please use tf.nn.max_pool2d instead.\n",
      "\n"
     ]
    }
   ],
   "source": [
    "classifier.add(MaxPooling2D(pool_size=(2,2)))"
   ]
  },
  {
   "cell_type": "markdown",
   "metadata": {},
   "source": [
    "## (added 2 onvolutional layers to make better prediction)"
   ]
  },
  {
   "cell_type": "markdown",
   "metadata": {},
   "source": [
    "in this case we don't need input_shape, because we already adapted our imgs the first time."
   ]
  },
  {
   "cell_type": "code",
   "execution_count": 5,
   "metadata": {},
   "outputs": [],
   "source": [
    "classifier.add(Convolution2D(filters=32,kernel_size=3,strides=1,activation=\"relu\"))"
   ]
  },
  {
   "cell_type": "markdown",
   "metadata": {},
   "source": [
    "we add a MAXPOOL for this case too."
   ]
  },
  {
   "cell_type": "code",
   "execution_count": 6,
   "metadata": {},
   "outputs": [],
   "source": [
    "classifier.add(MaxPooling2D(pool_size=(2,2)))"
   ]
  },
  {
   "cell_type": "code",
   "execution_count": 7,
   "metadata": {},
   "outputs": [],
   "source": [
    "classifier.add(Convolution2D(filters=32,kernel_size=3,strides=1,activation=\"relu\"))\n",
    "classifier.add(MaxPooling2D(pool_size=(2,2)))"
   ]
  },
  {
   "cell_type": "markdown",
   "metadata": {
    "id": "IdKtyXSEPDqS"
   },
   "source": [
    "## Flattening"
   ]
  },
  {
   "cell_type": "markdown",
   "metadata": {
    "id": "2aEBMP-qPGnT"
   },
   "source": [
    "We take all our pooled feature maps and align them to make the Entry layer for our ANN. Since now the structures of the img are represented as a high number, we can identify them as features for our entry layer."
   ]
  },
  {
   "cell_type": "code",
   "execution_count": 8,
   "metadata": {
    "id": "Hpk91B9ROVn-"
   },
   "outputs": [],
   "source": [
    "classifier.add(Flatten())"
   ]
  },
  {
   "cell_type": "markdown",
   "metadata": {
    "id": "8_kHcjvcPnqy"
   },
   "source": [
    "Now we just need to build a simple ANN."
   ]
  },
  {
   "cell_type": "markdown",
   "metadata": {
    "id": "EbYSHOvVPsyE"
   },
   "source": [
    "## ANN build."
   ]
  },
  {
   "cell_type": "markdown",
   "metadata": {
    "id": "-jfq4h4nP0WO"
   },
   "source": [
    "We create a hidden layer. I choose the units=128 because we need high enough value for the amount of features."
   ]
  },
  {
   "cell_type": "code",
   "execution_count": 9,
   "metadata": {
    "id": "VyMAflVePiSV"
   },
   "outputs": [],
   "source": [
    "classifier.add(Dense(units=128,activation=\"relu\"))\n",
    "classifier.add(Dropout(rate=0.5))\n",
    "classifier.add(Dense(units=128,activation=\"relu\"))\n",
    "classifier.add(Dropout(rate=0.5))\n",
    "classifier.add(Dense(units=128,activation=\"relu\"))\n",
    "classifier.add(Dropout(rate=0.5))"
   ]
  },
  {
   "cell_type": "markdown",
   "metadata": {
    "id": "XLXzPVXuQv9M"
   },
   "source": [
    "We build now the exit layer. Since this project is a classification of 2 possible outcomes, it would be wise to use the sigmoid activation function. (if we had multiple outcomes we could use the softmax function.)"
   ]
  },
  {
   "cell_type": "code",
   "execution_count": 10,
   "metadata": {
    "id": "QMmyUk18QpMw"
   },
   "outputs": [],
   "source": [
    "classifier.add(Dense(units=1,activation=\"sigmoid\"))"
   ]
  },
  {
   "cell_type": "markdown",
   "metadata": {
    "id": "hyYSwtpIRBdD"
   },
   "source": [
    "now we compile the classifier."
   ]
  },
  {
   "cell_type": "code",
   "execution_count": 11,
   "metadata": {
    "id": "GMpuIlKmQvJG"
   },
   "outputs": [
    {
     "name": "stdout",
     "output_type": "stream",
     "text": [
      "WARNING:tensorflow:From C:\\Users\\MIKED\\Anaconda3\\envs\\tensorflow\\lib\\site-packages\\tensorflow_core\\python\\ops\\nn_impl.py:183: where (from tensorflow.python.ops.array_ops) is deprecated and will be removed in a future version.\n",
      "Instructions for updating:\n",
      "Use tf.where in 2.0, which has the same broadcast rule as np.where\n"
     ]
    }
   ],
   "source": [
    "classifier.compile(optimizer=\"adam\",loss=\"binary_crossentropy\",metrics=[\"accuracy\"])"
   ]
  },
  {
   "cell_type": "markdown",
   "metadata": {
    "id": "rRyfjjm1Rl8E"
   },
   "source": [
    "# FIT the CNN to our imgs."
   ]
  },
  {
   "cell_type": "markdown",
   "metadata": {
    "id": "VjO4GgzMRsSJ"
   },
   "source": [
    "we need to fit the cnn to our imgs. We will use a technique that is called img augmentation, it prepares our imgs to reduce the risk of OVERFITTING to nothingness. Because to train a model, wee need a lot of imgs, this technique creates new imgs based on our current imgs.(for example just turn a img upside down.) The function is called : Flow_from_directory() we copy the functions from the keras library."
   ]
  },
  {
   "cell_type": "code",
   "execution_count": 12,
   "metadata": {
    "id": "l2ffuRNtW67F"
   },
   "outputs": [],
   "source": [
    "from keras.preprocessing.image import ImageDataGenerator"
   ]
  },
  {
   "cell_type": "markdown",
   "metadata": {
    "id": "sTNCltcCXoc3"
   },
   "source": [
    "the steps per epoch is the value of the imgs divided by the bach size : wich makes in our case 8000 / 32 = 250, so we give it 250. for validation step we have 2000 imgs divided by 32 == 63."
   ]
  },
  {
   "cell_type": "code",
   "execution_count": 13,
   "metadata": {
    "colab": {
     "base_uri": "https://localhost:8080/"
    },
    "id": "w7QNOf8BRiOQ",
    "outputId": "e6e08c20-4dc9-4f7c-8d44-f82e197bcd24"
   },
   "outputs": [
    {
     "name": "stdout",
     "output_type": "stream",
     "text": [
      "Found 8000 images belonging to 2 classes.\n"
     ]
    }
   ],
   "source": [
    "train_datagen = ImageDataGenerator(\n",
    "        rescale=1./255, # change the scale value of every  (just like the standardization)\n",
    "        shear_range=0.2,# to make transvection = change the angle of which you see the img\n",
    "        zoom_range=0.2,\n",
    "        horizontal_flip=True) # to turn the img horizontaly.\n",
    "\n",
    "test_datagen = ImageDataGenerator(rescale=1./255) #we change everything on the same scale.\n",
    "\n",
    "# creates the new imgs.\n",
    "\n",
    "training_set = train_datagen.flow_from_directory(\n",
    "        'dataset/training_set',\n",
    "        target_size=(150, 150),\n",
    "        batch_size=32,\n",
    "        class_mode='binary')\n"
   ]
  },
  {
   "cell_type": "markdown",
   "metadata": {
    "id": "UT5TCYzE4pt5"
   },
   "source": [
    "for unknown reasons in google colab we find only 3270 images"
   ]
  },
  {
   "cell_type": "code",
   "execution_count": 14,
   "metadata": {
    "colab": {
     "base_uri": "https://localhost:8080/"
    },
    "id": "A4A3MN5lzK4A",
    "outputId": "1ee7b328-3b8a-489b-ed17-5dc91015a7b1"
   },
   "outputs": [
    {
     "name": "stdout",
     "output_type": "stream",
     "text": [
      "Found 2000 images belonging to 2 classes.\n"
     ]
    }
   ],
   "source": [
    "test_set = test_datagen.flow_from_directory(\n",
    "        'dataset/test_set',\n",
    "        target_size=(150, 150),\n",
    "        batch_size=32,\n",
    "        class_mode='binary')\n"
   ]
  },
  {
   "cell_type": "markdown",
   "metadata": {},
   "source": [
    "for unknown reasons in google colab we find 0 images"
   ]
  },
  {
   "cell_type": "markdown",
   "metadata": {
    "id": "5jBfO49sYTwe"
   },
   "source": [
    "# trains the model and measures his performance.\n"
   ]
  },
  {
   "cell_type": "code",
   "execution_count": 15,
   "metadata": {},
   "outputs": [
    {
     "name": "stdout",
     "output_type": "stream",
     "text": [
      "WARNING:tensorflow:From C:\\Users\\MIKED\\Anaconda3\\envs\\tensorflow\\lib\\site-packages\\keras\\backend\\tensorflow_backend.py:422: The name tf.global_variables is deprecated. Please use tf.compat.v1.global_variables instead.\n",
      "\n",
      "Epoch 1/100\n",
      "250/250 [==============================] - 73s 291ms/step - loss: 0.6943 - accuracy: 0.4980 - val_loss: 0.6961 - val_accuracy: 0.5010\n",
      "Epoch 2/100\n",
      "250/250 [==============================] - 70s 281ms/step - loss: 0.6895 - accuracy: 0.5289 - val_loss: 0.6858 - val_accuracy: 0.5430\n",
      "Epoch 3/100\n",
      "250/250 [==============================] - 70s 278ms/step - loss: 0.6788 - accuracy: 0.5705 - val_loss: 0.6751 - val_accuracy: 0.6090\n",
      "Epoch 4/100\n",
      "250/250 [==============================] - 73s 290ms/step - loss: 0.6542 - accuracy: 0.6237 - val_loss: 0.7074 - val_accuracy: 0.6685\n",
      "Epoch 5/100\n",
      "250/250 [==============================] - 72s 287ms/step - loss: 0.6285 - accuracy: 0.6603 - val_loss: 0.4308 - val_accuracy: 0.6725\n",
      "Epoch 6/100\n",
      "250/250 [==============================] - 72s 288ms/step - loss: 0.5947 - accuracy: 0.6896 - val_loss: 0.5484 - val_accuracy: 0.7225\n",
      "Epoch 7/100\n",
      "250/250 [==============================] - 73s 292ms/step - loss: 0.5660 - accuracy: 0.7120 - val_loss: 0.5953 - val_accuracy: 0.7290\n",
      "Epoch 8/100\n",
      "250/250 [==============================] - 70s 280ms/step - loss: 0.5581 - accuracy: 0.7180 - val_loss: 0.5225 - val_accuracy: 0.7515\n",
      "Epoch 9/100\n",
      "250/250 [==============================] - 70s 280ms/step - loss: 0.5182 - accuracy: 0.7529 - val_loss: 0.4939 - val_accuracy: 0.7750\n",
      "Epoch 10/100\n",
      "250/250 [==============================] - 71s 282ms/step - loss: 0.5054 - accuracy: 0.7554 - val_loss: 0.3853 - val_accuracy: 0.7700\n",
      "Epoch 11/100\n",
      "250/250 [==============================] - 70s 281ms/step - loss: 0.4916 - accuracy: 0.7684 - val_loss: 0.3859 - val_accuracy: 0.7715\n",
      "Epoch 12/100\n",
      "250/250 [==============================] - 70s 280ms/step - loss: 0.4861 - accuracy: 0.7661 - val_loss: 0.5761 - val_accuracy: 0.7735\n",
      "Epoch 13/100\n",
      "250/250 [==============================] - 71s 284ms/step - loss: 0.4575 - accuracy: 0.7860 - val_loss: 0.6602 - val_accuracy: 0.7695\n",
      "Epoch 14/100\n",
      "250/250 [==============================] - 71s 284ms/step - loss: 0.4610 - accuracy: 0.7908 - val_loss: 0.2304 - val_accuracy: 0.7860\n",
      "Epoch 15/100\n",
      "250/250 [==============================] - 70s 278ms/step - loss: 0.4411 - accuracy: 0.7972 - val_loss: 0.5489 - val_accuracy: 0.7900\n",
      "Epoch 16/100\n",
      "250/250 [==============================] - 71s 283ms/step - loss: 0.4382 - accuracy: 0.8024 - val_loss: 0.9425 - val_accuracy: 0.8005\n",
      "Epoch 17/100\n",
      "250/250 [==============================] - 70s 278ms/step - loss: 0.4334 - accuracy: 0.8001 - val_loss: 0.4061 - val_accuracy: 0.7765\n",
      "Epoch 18/100\n",
      "250/250 [==============================] - 69s 274ms/step - loss: 0.4207 - accuracy: 0.8102 - val_loss: 0.5203 - val_accuracy: 0.8000\n",
      "Epoch 19/100\n",
      "250/250 [==============================] - 69s 275ms/step - loss: 0.4193 - accuracy: 0.8109 - val_loss: 0.3360 - val_accuracy: 0.7980\n",
      "Epoch 20/100\n",
      "250/250 [==============================] - 68s 273ms/step - loss: 0.3961 - accuracy: 0.8275 - val_loss: 0.6187 - val_accuracy: 0.7990\n",
      "Epoch 21/100\n",
      "250/250 [==============================] - 69s 274ms/step - loss: 0.3909 - accuracy: 0.8296 - val_loss: 0.7622 - val_accuracy: 0.7980\n",
      "Epoch 22/100\n",
      "250/250 [==============================] - 69s 277ms/step - loss: 0.3904 - accuracy: 0.8299 - val_loss: 0.3997 - val_accuracy: 0.8050\n",
      "Epoch 23/100\n",
      "250/250 [==============================] - 69s 274ms/step - loss: 0.3769 - accuracy: 0.8339 - val_loss: 0.4347 - val_accuracy: 0.7830\n",
      "Epoch 24/100\n",
      "250/250 [==============================] - 69s 277ms/step - loss: 0.3785 - accuracy: 0.8371 - val_loss: 0.5936 - val_accuracy: 0.7990\n",
      "Epoch 25/100\n",
      "250/250 [==============================] - 70s 280ms/step - loss: 0.3723 - accuracy: 0.8332 - val_loss: 1.7422 - val_accuracy: 0.8135\n",
      "Epoch 26/100\n",
      "250/250 [==============================] - 2008s 8s/step - loss: 0.3664 - accuracy: 0.8394 - val_loss: 0.3514 - val_accuracy: 0.8275\n",
      "Epoch 27/100\n",
      "250/250 [==============================] - 70s 281ms/step - loss: 0.3503 - accuracy: 0.8476 - val_loss: 0.6940 - val_accuracy: 0.8150\n",
      "Epoch 28/100\n",
      "250/250 [==============================] - 72s 288ms/step - loss: 0.3490 - accuracy: 0.8495 - val_loss: 0.3384 - val_accuracy: 0.8275\n",
      "Epoch 29/100\n",
      "250/250 [==============================] - 71s 284ms/step - loss: 0.3415 - accuracy: 0.8509 - val_loss: 0.4632 - val_accuracy: 0.8185\n",
      "Epoch 30/100\n",
      "250/250 [==============================] - 72s 286ms/step - loss: 0.3530 - accuracy: 0.8500 - val_loss: 0.4171 - val_accuracy: 0.8135\n",
      "Epoch 31/100\n",
      "250/250 [==============================] - 73s 290ms/step - loss: 0.3335 - accuracy: 0.8516 - val_loss: 0.2486 - val_accuracy: 0.8205\n",
      "Epoch 32/100\n",
      "250/250 [==============================] - 72s 287ms/step - loss: 0.3240 - accuracy: 0.8601 - val_loss: 0.4837 - val_accuracy: 0.8320\n",
      "Epoch 33/100\n",
      "250/250 [==============================] - 71s 284ms/step - loss: 0.3269 - accuracy: 0.8568 - val_loss: 0.5240 - val_accuracy: 0.8355\n",
      "Epoch 34/100\n",
      "250/250 [==============================] - 71s 285ms/step - loss: 0.3204 - accuracy: 0.8610 - val_loss: 0.3564 - val_accuracy: 0.8235\n",
      "Epoch 35/100\n",
      "250/250 [==============================] - 71s 285ms/step - loss: 0.3070 - accuracy: 0.8671 - val_loss: 0.2986 - val_accuracy: 0.8365\n",
      "Epoch 36/100\n",
      "250/250 [==============================] - 73s 293ms/step - loss: 0.3139 - accuracy: 0.8705 - val_loss: 0.5082 - val_accuracy: 0.8180\n",
      "Epoch 37/100\n",
      "250/250 [==============================] - 72s 288ms/step - loss: 0.3011 - accuracy: 0.8717 - val_loss: 0.5562 - val_accuracy: 0.8250\n",
      "Epoch 38/100\n",
      "250/250 [==============================] - 72s 288ms/step - loss: 0.2979 - accuracy: 0.8805 - val_loss: 0.2367 - val_accuracy: 0.8250\n",
      "Epoch 39/100\n",
      "250/250 [==============================] - 73s 290ms/step - loss: 0.2925 - accuracy: 0.8774 - val_loss: 0.4008 - val_accuracy: 0.8345\n",
      "Epoch 40/100\n",
      "250/250 [==============================] - 72s 286ms/step - loss: 0.2844 - accuracy: 0.8842 - val_loss: 0.2840 - val_accuracy: 0.8340\n",
      "Epoch 41/100\n",
      "250/250 [==============================] - 71s 284ms/step - loss: 0.2828 - accuracy: 0.8801 - val_loss: 0.6544 - val_accuracy: 0.8225\n",
      "Epoch 42/100\n",
      "250/250 [==============================] - 72s 288ms/step - loss: 0.2796 - accuracy: 0.8814 - val_loss: 0.1733 - val_accuracy: 0.8370\n",
      "Epoch 43/100\n",
      "250/250 [==============================] - 72s 287ms/step - loss: 0.2766 - accuracy: 0.8865 - val_loss: 0.2828 - val_accuracy: 0.8335\n",
      "Epoch 44/100\n",
      "250/250 [==============================] - 73s 293ms/step - loss: 0.2705 - accuracy: 0.8885 - val_loss: 0.3495 - val_accuracy: 0.8455\n",
      "Epoch 45/100\n",
      "250/250 [==============================] - 72s 289ms/step - loss: 0.2661 - accuracy: 0.8914 - val_loss: 0.1335 - val_accuracy: 0.8420\n",
      "Epoch 46/100\n",
      "250/250 [==============================] - 72s 289ms/step - loss: 0.2689 - accuracy: 0.8900 - val_loss: 0.5475 - val_accuracy: 0.8395\n",
      "Epoch 47/100\n",
      "250/250 [==============================] - 73s 291ms/step - loss: 0.2744 - accuracy: 0.8861 - val_loss: 0.1386 - val_accuracy: 0.8340\n",
      "Epoch 48/100\n",
      "250/250 [==============================] - 72s 290ms/step - loss: 0.2609 - accuracy: 0.8960 - val_loss: 0.2710 - val_accuracy: 0.8345\n",
      "Epoch 49/100\n",
      "250/250 [==============================] - 74s 295ms/step - loss: 0.2536 - accuracy: 0.8946 - val_loss: 0.7581 - val_accuracy: 0.8395\n",
      "Epoch 50/100\n",
      "250/250 [==============================] - 74s 296ms/step - loss: 0.2527 - accuracy: 0.8972 - val_loss: 0.7247 - val_accuracy: 0.8305\n",
      "Epoch 51/100\n",
      "250/250 [==============================] - 72s 287ms/step - loss: 0.2377 - accuracy: 0.9044 - val_loss: 0.1900 - val_accuracy: 0.8400\n",
      "Epoch 52/100\n",
      "250/250 [==============================] - 71s 285ms/step - loss: 0.2447 - accuracy: 0.9021 - val_loss: 0.3362 - val_accuracy: 0.8385\n",
      "Epoch 53/100\n",
      "250/250 [==============================] - 72s 288ms/step - loss: 0.2422 - accuracy: 0.8995 - val_loss: 0.7922 - val_accuracy: 0.8340\n",
      "Epoch 54/100\n",
      "250/250 [==============================] - 71s 282ms/step - loss: 0.2371 - accuracy: 0.9031 - val_loss: 1.3944 - val_accuracy: 0.8340\n",
      "Epoch 55/100\n"
     ]
    },
    {
     "name": "stdout",
     "output_type": "stream",
     "text": [
      "250/250 [==============================] - 73s 292ms/step - loss: 0.2352 - accuracy: 0.9056 - val_loss: 0.3790 - val_accuracy: 0.8435\n",
      "Epoch 56/100\n",
      "250/250 [==============================] - 72s 290ms/step - loss: 0.2241 - accuracy: 0.9105 - val_loss: 0.2745 - val_accuracy: 0.8320\n",
      "Epoch 57/100\n",
      "250/250 [==============================] - 71s 284ms/step - loss: 0.2274 - accuracy: 0.9055 - val_loss: 0.2593 - val_accuracy: 0.8385\n",
      "Epoch 58/100\n",
      "250/250 [==============================] - 72s 288ms/step - loss: 0.2253 - accuracy: 0.9090 - val_loss: 0.3659 - val_accuracy: 0.8435\n",
      "Epoch 59/100\n",
      "250/250 [==============================] - 72s 287ms/step - loss: 0.2222 - accuracy: 0.9072 - val_loss: 0.5517 - val_accuracy: 0.8415\n",
      "Epoch 60/100\n",
      "250/250 [==============================] - 72s 290ms/step - loss: 0.2318 - accuracy: 0.9020 - val_loss: 0.1215 - val_accuracy: 0.8400\n",
      "Epoch 61/100\n",
      "250/250 [==============================] - 74s 296ms/step - loss: 0.2228 - accuracy: 0.9129 - val_loss: 0.3729 - val_accuracy: 0.8325\n",
      "Epoch 62/100\n",
      "250/250 [==============================] - 73s 291ms/step - loss: 0.2261 - accuracy: 0.9079 - val_loss: 0.5150 - val_accuracy: 0.8400\n",
      "Epoch 63/100\n",
      "250/250 [==============================] - 75s 301ms/step - loss: 0.2195 - accuracy: 0.9106 - val_loss: 0.5755 - val_accuracy: 0.8180\n",
      "Epoch 64/100\n",
      "250/250 [==============================] - 77s 310ms/step - loss: 0.2236 - accuracy: 0.9145 - val_loss: 0.2779 - val_accuracy: 0.8265\n",
      "Epoch 65/100\n",
      "250/250 [==============================] - 72s 289ms/step - loss: 0.2085 - accuracy: 0.9156 - val_loss: 0.3162 - val_accuracy: 0.8435\n",
      "Epoch 66/100\n",
      "250/250 [==============================] - 73s 293ms/step - loss: 0.2105 - accuracy: 0.9149 - val_loss: 0.2832 - val_accuracy: 0.8340\n",
      "Epoch 67/100\n",
      "250/250 [==============================] - 74s 295ms/step - loss: 0.1977 - accuracy: 0.9218 - val_loss: 0.6994 - val_accuracy: 0.8425\n",
      "Epoch 68/100\n",
      "250/250 [==============================] - 72s 288ms/step - loss: 0.2067 - accuracy: 0.9190 - val_loss: 0.4797 - val_accuracy: 0.8500\n",
      "Epoch 69/100\n",
      "250/250 [==============================] - 72s 287ms/step - loss: 0.2053 - accuracy: 0.9197 - val_loss: 0.5921 - val_accuracy: 0.8395\n",
      "Epoch 70/100\n",
      "250/250 [==============================] - 74s 295ms/step - loss: 0.2100 - accuracy: 0.9166 - val_loss: 0.1132 - val_accuracy: 0.8450\n",
      "Epoch 71/100\n",
      "250/250 [==============================] - 74s 296ms/step - loss: 0.2028 - accuracy: 0.9189 - val_loss: 0.3519 - val_accuracy: 0.8445\n",
      "Epoch 72/100\n",
      "250/250 [==============================] - 74s 298ms/step - loss: 0.1912 - accuracy: 0.9239 - val_loss: 0.2637 - val_accuracy: 0.8520\n",
      "Epoch 73/100\n",
      "250/250 [==============================] - 73s 294ms/step - loss: 0.1957 - accuracy: 0.9219 - val_loss: 0.3123 - val_accuracy: 0.8310\n",
      "Epoch 74/100\n",
      "250/250 [==============================] - 71s 285ms/step - loss: 0.1866 - accuracy: 0.9246 - val_loss: 0.3850 - val_accuracy: 0.8275\n",
      "Epoch 75/100\n",
      "250/250 [==============================] - 71s 282ms/step - loss: 0.1882 - accuracy: 0.9250 - val_loss: 0.2247 - val_accuracy: 0.8480\n",
      "Epoch 76/100\n",
      "250/250 [==============================] - 71s 286ms/step - loss: 0.1825 - accuracy: 0.9308 - val_loss: 0.4568 - val_accuracy: 0.8540\n",
      "Epoch 77/100\n",
      "250/250 [==============================] - 70s 282ms/step - loss: 0.1716 - accuracy: 0.9302 - val_loss: 0.1716 - val_accuracy: 0.8465\n",
      "Epoch 78/100\n",
      "250/250 [==============================] - 71s 285ms/step - loss: 0.1758 - accuracy: 0.9319 - val_loss: 0.0748 - val_accuracy: 0.8380\n",
      "Epoch 79/100\n",
      "250/250 [==============================] - 70s 281ms/step - loss: 0.1838 - accuracy: 0.9295 - val_loss: 0.1098 - val_accuracy: 0.8520\n",
      "Epoch 80/100\n",
      "250/250 [==============================] - 71s 283ms/step - loss: 0.1772 - accuracy: 0.9321 - val_loss: 0.4685 - val_accuracy: 0.8430\n",
      "Epoch 81/100\n",
      "250/250 [==============================] - 71s 283ms/step - loss: 0.1928 - accuracy: 0.9247 - val_loss: 0.0675 - val_accuracy: 0.8470\n",
      "Epoch 82/100\n",
      "250/250 [==============================] - 73s 290ms/step - loss: 0.1799 - accuracy: 0.9301 - val_loss: 0.1208 - val_accuracy: 0.8485\n",
      "Epoch 83/100\n",
      "250/250 [==============================] - 72s 289ms/step - loss: 0.1818 - accuracy: 0.9251 - val_loss: 0.0345 - val_accuracy: 0.8475\n",
      "Epoch 84/100\n",
      "250/250 [==============================] - 71s 284ms/step - loss: 0.1742 - accuracy: 0.9316 - val_loss: 0.3967 - val_accuracy: 0.8490\n",
      "Epoch 85/100\n",
      "250/250 [==============================] - 72s 288ms/step - loss: 0.1778 - accuracy: 0.9281 - val_loss: 0.6990 - val_accuracy: 0.8430\n",
      "Epoch 86/100\n",
      "250/250 [==============================] - 72s 290ms/step - loss: 0.1589 - accuracy: 0.9355 - val_loss: 0.1233 - val_accuracy: 0.8495\n",
      "Epoch 87/100\n",
      "250/250 [==============================] - 73s 291ms/step - loss: 0.1644 - accuracy: 0.9352 - val_loss: 0.1630 - val_accuracy: 0.8495\n",
      "Epoch 88/100\n",
      "250/250 [==============================] - 69s 276ms/step - loss: 0.1689 - accuracy: 0.9327 - val_loss: 0.6639 - val_accuracy: 0.8425\n",
      "Epoch 89/100\n",
      "250/250 [==============================] - 71s 283ms/step - loss: 0.1733 - accuracy: 0.9325 - val_loss: 0.6705 - val_accuracy: 0.8490\n",
      "Epoch 90/100\n",
      "250/250 [==============================] - 70s 280ms/step - loss: 0.1567 - accuracy: 0.9417 - val_loss: 0.9795 - val_accuracy: 0.8485\n",
      "Epoch 91/100\n",
      "250/250 [==============================] - 69s 275ms/step - loss: 0.1604 - accuracy: 0.9391 - val_loss: 0.5483 - val_accuracy: 0.8540\n",
      "Epoch 92/100\n",
      "250/250 [==============================] - 70s 279ms/step - loss: 0.1772 - accuracy: 0.9298 - val_loss: 0.7195 - val_accuracy: 0.8360\n",
      "Epoch 93/100\n",
      "250/250 [==============================] - 69s 278ms/step - loss: 0.1586 - accuracy: 0.9358 - val_loss: 0.5678 - val_accuracy: 0.8425\n",
      "Epoch 94/100\n",
      "250/250 [==============================] - 70s 282ms/step - loss: 0.1536 - accuracy: 0.9384 - val_loss: 0.2101 - val_accuracy: 0.8510\n",
      "Epoch 95/100\n",
      "250/250 [==============================] - 72s 289ms/step - loss: 0.1626 - accuracy: 0.9359 - val_loss: 0.7799 - val_accuracy: 0.8530\n",
      "Epoch 96/100\n",
      "250/250 [==============================] - 71s 283ms/step - loss: 0.1504 - accuracy: 0.9429 - val_loss: 0.7200 - val_accuracy: 0.8595\n",
      "Epoch 97/100\n",
      "250/250 [==============================] - 71s 284ms/step - loss: 0.1467 - accuracy: 0.9427 - val_loss: 0.5393 - val_accuracy: 0.8530\n",
      "Epoch 98/100\n",
      "250/250 [==============================] - 73s 292ms/step - loss: 0.1529 - accuracy: 0.9402 - val_loss: 0.4338 - val_accuracy: 0.8345\n",
      "Epoch 99/100\n",
      "250/250 [==============================] - 71s 283ms/step - loss: 0.1552 - accuracy: 0.9405 - val_loss: 0.7336 - val_accuracy: 0.8560\n",
      "Epoch 100/100\n",
      "250/250 [==============================] - 73s 291ms/step - loss: 0.1477 - accuracy: 0.9438 - val_loss: 0.0415 - val_accuracy: 0.8535\n"
     ]
    },
    {
     "data": {
      "text/plain": [
       "<keras.callbacks.callbacks.History at 0x1bf900bd630>"
      ]
     },
     "execution_count": 15,
     "metadata": {},
     "output_type": "execute_result"
    }
   ],
   "source": [
    "classifier.fit(\n",
    "        training_set,\n",
    "        steps_per_epoch=250, #everytime we reajust the epochs\n",
    "        epochs=100,\n",
    "        validation_data=test_set,\n",
    "        validation_steps=63)"
   ]
  },
  {
   "cell_type": "markdown",
   "metadata": {
    "id": "6amIiSbs4lvM"
   },
   "source": [
    "this takes a long time....(first run without the 2 new convolutional layer) 0.76 is not very high in my point of view, so i will add some convolutional layers... (ps at first i used only one convolutional layer, now i use 3.) "
   ]
  },
  {
   "cell_type": "markdown",
   "metadata": {},
   "source": [
    "accuracy_test_data = 80.65% . Thats bretty good."
   ]
  },
  {
   "cell_type": "markdown",
   "metadata": {
    "id": "Ru81BxzrxSqv"
   },
   "source": [
    "# Test on a new image"
   ]
  },
  {
   "cell_type": "markdown",
   "metadata": {},
   "source": [
    "At first we need to identify which class is which, because the prediction will send us a value, and we wouldn't know what is what..."
   ]
  },
  {
   "cell_type": "code",
   "execution_count": 16,
   "metadata": {},
   "outputs": [
    {
     "data": {
      "text/plain": [
       "{'cats': 0, 'dogs': 1}"
      ]
     },
     "execution_count": 16,
     "metadata": {},
     "output_type": "execute_result"
    }
   ],
   "source": [
    "training_set.class_indices"
   ]
  },
  {
   "cell_type": "markdown",
   "metadata": {},
   "source": [
    "Now we test it on a new image that it has never seen before. So we take a new image and adapt it to the size and form that our model can take. Wich means 64x64."
   ]
  },
  {
   "cell_type": "code",
   "execution_count": 17,
   "metadata": {},
   "outputs": [],
   "source": [
    "from keras.preprocessing import image"
   ]
  },
  {
   "cell_type": "markdown",
   "metadata": {},
   "source": [
    "We load the specific image, with the desired size."
   ]
  },
  {
   "cell_type": "code",
   "execution_count": 23,
   "metadata": {},
   "outputs": [
    {
     "data": {
      "image/png": "[encoded data removed]",
      "text/plain": [
       "<PIL.Image.Image image mode=RGB size=150x150 at 0x1BFF8CE3E10>"
      ]
     },
     "execution_count": 23,
     "metadata": {},
     "output_type": "execute_result"
    }
   ],
   "source": [
    "img=image.load_img('dataset/single_prediction/cat_or_dog_1.jpg',target_size=(150,150))\n",
    "img"
   ]
  },
  {
   "cell_type": "markdown",
   "metadata": {},
   "source": [
    "so this is a dog. Ok let's see if the model recognize it."
   ]
  },
  {
   "cell_type": "markdown",
   "metadata": {},
   "source": [
    "We need to transform it into an array so that the model can understand it."
   ]
  },
  {
   "cell_type": "code",
   "execution_count": 24,
   "metadata": {},
   "outputs": [],
   "source": [
    "img=image.img_to_array(img)"
   ]
  },
  {
   "cell_type": "markdown",
   "metadata": {},
   "source": [
    "we need to add a dimension because the model needs 4 dimensions, the 4th represends groups, groups of images where only specific images belong."
   ]
  },
  {
   "cell_type": "code",
   "execution_count": 25,
   "metadata": {},
   "outputs": [],
   "source": [
    "img=img.reshape((1,)+img.shape) # we could also use np.expand_dims(img,axis=0)"
   ]
  },
  {
   "cell_type": "markdown",
   "metadata": {},
   "source": [
    "We don't forget to standardize our image."
   ]
  },
  {
   "cell_type": "code",
   "execution_count": 26,
   "metadata": {},
   "outputs": [],
   "source": [
    "img=img/255"
   ]
  },
  {
   "cell_type": "markdown",
   "metadata": {},
   "source": [
    "Now we predict."
   ]
  },
  {
   "cell_type": "code",
   "execution_count": 27,
   "metadata": {},
   "outputs": [
    {
     "data": {
      "text/plain": [
       "array([[1]])"
      ]
     },
     "execution_count": 27,
     "metadata": {},
     "output_type": "execute_result"
    }
   ],
   "source": [
    "classifier.predict_classes(img)"
   ]
  },
  {
   "cell_type": "markdown",
   "metadata": {},
   "source": [
    "IT's a DOG !"
   ]
  },
  {
   "cell_type": "markdown",
   "metadata": {},
   "source": [
    "Let's try for another img. A cat This time:"
   ]
  },
  {
   "cell_type": "code",
   "execution_count": 30,
   "metadata": {},
   "outputs": [
    {
     "data": {
      "image/png": "[encoded data removed]",
      "text/plain": [
       "<PIL.Image.Image image mode=RGB size=150x150 at 0x1BF93807DD8>"
      ]
     },
     "execution_count": 30,
     "metadata": {},
     "output_type": "execute_result"
    }
   ],
   "source": [
    "img=image.load_img('dataset/single_prediction/cat_or_dog_2.jpg',target_size=(150,150))\n",
    "img"
   ]
  },
  {
   "cell_type": "code",
   "execution_count": 31,
   "metadata": {},
   "outputs": [
    {
     "data": {
      "text/plain": [
       "array([[0]])"
      ]
     },
     "execution_count": 31,
     "metadata": {},
     "output_type": "execute_result"
    }
   ],
   "source": [
    "img=image.img_to_array(img)\n",
    "img=img.reshape((1,)+img.shape) # we could also use np.expand_dims(img,axis=0)\n",
    "img=img/255\n",
    "classifier.predict_classes(img)"
   ]
  },
  {
   "cell_type": "markdown",
   "metadata": {},
   "source": [
    "IT'S A CAT !"
   ]
  },
  {
   "cell_type": "markdown",
   "metadata": {},
   "source": [
    "we realize that with an accuracy of 95% on our training Data, and 83% on our test data, our model suffers of overfitting.. so i need to work on it to optimize it."
   ]
  },
  {
   "cell_type": "code",
   "execution_count": null,
   "metadata": {},
   "outputs": [],
   "source": []
  }
 ],
 "metadata": {
  "colab": {
   "collapsed_sections": [],
   "name": "CNN.ipynb",
   "provenance": []
  },
  "kernelspec": {
   "display_name": "Python 3",
   "language": "python",
   "name": "python3"
  }
 },
 "nbformat": 4,
 "nbformat_minor": 1
}
